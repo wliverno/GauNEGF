{
 "cells": [
  {
   "cell_type": "markdown",
   "id": "eacc0665",
   "metadata": {},
   "source": [
    "# Integration Demo\n",
    "\n",
    "Following is a step-by-step guide comparing the two integration approaches use in the GaussianNEGF package. All steps have been tested on a 20 core system with each step running in seconds except for the final IV step, which can take minutes.\n",
    "\n",
    "## System Setup\n",
    "\n",
    "We will be working with an ethane molecule:\n",
    "<img src=\"ethane.png\" alt=\"drawing\" width=\"200\"/>\n",
    "\n",
    "**Basis set:** 6-31g(d,p) -  C atoms will have 15 basis functions and H will have 5\n",
    "\n",
    "**Functional:** B3LYP Hydbrid functional\n",
    "\n",
    "For this system we will use a diagonal self energy matrix, with $\\Gamma_i=0.1$ ($\\Sigma_i = -0.05j$). Because this is an energy independent self-energy, we can first test the system using the `NEGF()` type object from the `scf.py` file.\n",
    "\n",
    "## Energy Independent Approach\n",
    "To set up the system lets first import the packages and initialize the ethane system:"
   ]
  },
  {
   "cell_type": "code",
   "execution_count": null,
   "id": "3c5ec527",
   "metadata": {},
   "outputs": [],
   "source": [
    "from gauNEGF.scf import NEGF\n",
    "from gauNEGF.density import *\n",
    "from gauNEGF.surfGBethe import *\n",
    "from matplotlib import pyplot as plt\n",
    "\n",
    "negf = NEGF(fn='ethane', func='b3lyp', basis='6-31g(d,p)', spin='r')\n",
    "print(negf.bar.ian)"
   ]
  },
  {
   "cell_type": "markdown",
   "id": "396bde69",
   "metadata": {},
   "source": [
    "The gaussian interface `QCBinAr` object is stored in `negf.bar`.\n",
    "\n",
    "The atomic numbers for each atom are stored in `negf.bar.ian`, which are C, C, H, H, H, H, H, H\n",
    "\n",
    "Now we can attach the contacts to both carbon atoms:"
   ]
  },
  {
   "cell_type": "code",
   "execution_count": null,
   "id": "fefcf954",
   "metadata": {},
   "outputs": [],
   "source": [
    "negf.setSigma([1], [2], -0.05j)"
   ]
  },
  {
   "cell_type": "markdown",
   "id": "3ccad7c4",
   "metadata": {},
   "source": [
    "And set the voltage to zero, setting the Fermi energy to the default value $\\left(\\frac{E_H + E_L}2\\right)$:"
   ]
  },
  {
   "cell_type": "code",
   "execution_count": null,
   "id": "60042028",
   "metadata": {},
   "outputs": [],
   "source": [
    "negf.setVoltage(0)"
   ]
  },
  {
   "cell_type": "markdown",
   "id": "f7d0629f",
   "metadata": {},
   "source": [
    "Now let's run a quick NEGF-DFT job setting the convergence to $10^{-4}$ and the mixing factor to 0.05:"
   ]
  },
  {
   "cell_type": "code",
   "execution_count": null,
   "id": "e515ecc9",
   "metadata": {
    "scrolled": true
   },
   "outputs": [],
   "source": [
    "nIter, neList, Elist = negf.SCF(1e-3, 0.1)\n",
    "# Plot convergence of DFT Energy\n",
    "plt.plot(nIter, Elist)\n",
    "plt.xlabel('Iteration Number')\n",
    "plt.ylabel('Total DFT Energy (eV)')"
   ]
  },
  {
   "cell_type": "markdown",
   "id": "dc3db3b3",
   "metadata": {},
   "source": [
    "A quick check of the SCF run can be done by looking at the energy level occupation list printed at the end of the run. As can be seen, the Fermi energy ends up close to the HOMO energy, and the occupation of HOMO energy and below is close to 1.0 whereas all higher energy levels have occupations near 0.0. We can also look at the main diagonal of the density matrix to understand how the atomic orbitals are occupied, multiplying by 2 to account for spin:"
   ]
  },
  {
   "cell_type": "code",
   "execution_count": null,
   "id": "eefea5bb",
   "metadata": {},
   "outputs": [],
   "source": [
    "fig, (ax1, ax2) = plt.subplots(1,2, figsize=(10,5))\n",
    "rho = negf.P * 2\n",
    "\n",
    "# Count number of basis functions per atom:\n",
    "atlocs = np.cumsum([(negf.bar.ibfatm==i+1).sum() for i in range(negf.bar.natoms-1)])\n",
    "# Plot dividing lines between each atom\n",
    "for a in atlocs:\n",
    "    ax1.axvline(a, color='k', linestyle=':')\n",
    "    ax2.axvline(a, color='k', linestyle=':')\n",
    "\n",
    "# Plot real part of the diagonal of the density matrix\n",
    "ax1.bar(np.arange(len(negf.P))+0.5, np.diag(rho.real))\n",
    "ax1.set_title(r'$\\mathbb{Re}\\left[\\rho_{ii}\\right]$')\n",
    "# Plot imaginary part of the diagonal of the density matrix\n",
    "ax2.bar(np.arange(len(negf.P))+0.5, np.diag(rho.imag))\n",
    "ax2.set_title(r'$\\mathbb{Im}\\left[\\rho_{ii}\\right]$')"
   ]
  },
  {
   "cell_type": "markdown",
   "id": "bb504288",
   "metadata": {},
   "source": [
    "To integrate the energy independent case, an analytical solution was used by solving the integral equation:\n",
    "\n",
    "$$\n",
    "    2 \\pi \\hat{\\rho}_j = \\hat{S}^{-\\frac12}\\left[ \\int_{-\\infty}^{\\infty} f_j(E) \\left(\\sum_n \\frac{|n\\rangle}{E - \\epsilon_n} \\right) \\langle n|\\bar{\\Gamma}_j |n'\\rangle \\right. \\nonumber \\\\\n",
    "   \\left.  \\left(\\sum_{n'} \\frac{\\langle n'|}{E - \\epsilon_n^\\dagger} \\right) dE  \\right] \\hat{S}^{-\\frac12} \\ \\ \\ \n",
    "   $$\n",
    "\n",
    "where\n",
    "\n",
    "$$\n",
    "\\bar{\\Gamma}_j = \\hat{S}^{-\\frac12}\\hat{\\Gamma}_j\\hat{S}^{-\\frac12}\\\\\n",
    "\\bar{G} = (E \\hat{I} - \\bar{F})^{-1}\\\\\n",
    "\\bar{F} =  \\hat{S}^{-\\frac12}(\\hat{F} + \\hat{\\Sigma}_L + \\hat{\\Sigma}_R)  \\hat{S}^{-\\frac12}\\\\\n",
    "\\bar{F}|n\\rangle= \\epsilon_n |n\\rangle\n",
    "$$\n",
    "\n",
    "and $j$ represents the contribution from the jth contact. Note that we will assume that the temperature is zero, so the Fermi function ($f_j(E)$) can be replaced with a finite integral up to $E_{F, j}$. \n",
    "\n",
    "In our case, two contacts are applied (the left and right) so\n",
    "\n",
    "$$\n",
    "\\hat{\\rho} = \\hat{\\rho}_L + \\hat{\\rho}_R\n",
    "$$\n",
    "\n",
    "Since $\\bar{\\Gamma}_j$ is constant with respect to energy, the solution can be solved without numerical integration, calculating the value of the analytical solution at the integration limits (some $E_{min}$ to represent negative infinity and the fermi energy $E_F$). This matrix math only requires a single diagonalization of $\\bar{F}$ to get the values of $\\epsilon_n$ and a single matrix exponent to get $\\hat{S}^{-\\frac12}$. To test this math, we can use numerical integration methods that allow for an energy dependent $\\hat{\\Gamma}_j$.\n",
    "\n",
    "## ENERGY DEPENDENT APPROACH\n",
    "\n",
    "First, let us import the energy dependent packages and set up the same system:"
   ]
  },
  {
   "cell_type": "code",
   "execution_count": null,
   "id": "2e6bbbbb",
   "metadata": {
    "scrolled": true
   },
   "outputs": [],
   "source": [
    "from gauNEGF.scfE import NEGFE\n",
    "\n",
    "negf2 = NEGFE(fn='ethane', func='b3lyp', basis='6-31g(d,p)', spin='r')\n",
    "print(negf2.bar.ian)"
   ]
  },
  {
   "cell_type": "markdown",
   "id": "293e12a1",
   "metadata": {},
   "source": [
    "Now, we can set the contact on our `NEGFE()` object for ethane:"
   ]
  },
  {
   "cell_type": "code",
   "execution_count": null,
   "id": "cc969446",
   "metadata": {
    "scrolled": false
   },
   "outputs": [],
   "source": [
    "indsList = negf2.setSigma([1], [2], -0.05j)"
   ]
  },
  {
   "cell_type": "markdown",
   "id": "381048f4",
   "metadata": {},
   "source": [
    "And then we can set the voltage and calculate the energy mesh used for numerical integration (default parameters: tolerance 1e-4, mixing factor of 0.02 and 10 initial iterations):"
   ]
  },
  {
   "cell_type": "code",
   "execution_count": null,
   "id": "3a9c5eb9",
   "metadata": {
    "scrolled": true
   },
   "outputs": [],
   "source": [
    "negf2.setVoltage(0.0)\n",
    "negf2.integralCheck()"
   ]
  },
  {
   "cell_type": "markdown",
   "id": "742bdcd9",
   "metadata": {},
   "source": [
    "Finally, we can run the SCF with the same parameters as before ($10^{-3}$, mixing of 0.1):"
   ]
  },
  {
   "cell_type": "code",
   "execution_count": null,
   "id": "4beef419",
   "metadata": {
    "scrolled": true
   },
   "outputs": [],
   "source": [
    "nIter, neList, Elist = negf2.SCF(1e-3, 0.01)\n",
    "# Plot convergence of DFT Energy\n",
    "plt.plot(nIter, Elist)\n",
    "plt.xlabel('Iteration Number')\n",
    "plt.ylabel('Total DFT Energy (eV)')"
   ]
  },
  {
   "cell_type": "markdown",
   "id": "3f169a9b",
   "metadata": {},
   "source": [
    "This method use complex contour integration of the retarded Green's function to calculate the density matrix, based on the following equation.\n",
    "\n",
    "$$\n",
    "\\hat{\\rho} =  -\\frac{1}{\\pi}\\mathbb{Im}\\left[\\int_{-\\infty}^{E_F} \\hat{G}^R(E) dE \\right]      \n",
    "$$\n",
    "\n",
    "Note that this assumes that temperature is zero, as used in the energy-independent case.\n",
    "\n",
    "## Comparison of Approaches\n",
    "\n",
    "We can now compare the generated density matrices side by side:"
   ]
  },
  {
   "cell_type": "code",
   "execution_count": null,
   "id": "f8e81e9d",
   "metadata": {},
   "outputs": [],
   "source": [
    "fig, (ax1, ax2) = plt.subplots(1,2, figsize=(10,5))\n",
    "im = ax1.imshow(negf.P.real)\n",
    "ax1.set_title(r'Analytical Integration $\\rho$')\n",
    "im2 = ax2.imshow(negf2.P.real)\n",
    "ax2.set_title(r'Numerical Integration $\\rho$')\n",
    "fig.subplots_adjust(right=0.8)\n",
    "cbar_ax = fig.add_axes([0.85, 0.15, 0.05, 0.7])\n",
    "fig.colorbar(im2, cax=cbar_ax)"
   ]
  },
  {
   "cell_type": "markdown",
   "id": "3a7eed2e",
   "metadata": {},
   "source": [
    "As a second check, we can calculate the density of states using each method. First, we need to import the `transport` package and generate the energy grid, then calculate DOS for each object:"
   ]
  },
  {
   "cell_type": "code",
   "execution_count": null,
   "id": "c7db2649",
   "metadata": {},
   "outputs": [],
   "source": [
    "from gauNEGF.transport import *\n",
    "\n",
    "Elist = np.linspace(-20, 20, 1000)\n",
    "DOS1, _ = DOS(Elist+negf.fermi, negf.F, negf.S, negf.sigma1, negf.sigma2)\n",
    "DOS2, _ = DOSE(Elist+negf2.fermi, negf2.F, negf2.S, negf2.g)"
   ]
  },
  {
   "cell_type": "code",
   "execution_count": null,
   "id": "a154abfd",
   "metadata": {},
   "outputs": [],
   "source": [
    "plt.semilogy(Elist, DOS1, Elist, DOS2)\n",
    "plt.legend(('Analytical Integration', 'Numerical Integration'))\n",
    "plt.xlabel(r'$E-E_F$ (eV)')\n",
    "plt.ylabel('Density of States')"
   ]
  },
  {
   "cell_type": "markdown",
   "id": "45b4df53",
   "metadata": {},
   "source": [
    "## IV Characteristic Comparison\n",
    "\n",
    "We can now use NEGF to sweep the voltage and calculate current across the molecule. This requires using the NEGF-DFT solver at each voltage point to calculate the transmission and then integrating to get the current. For $T=0 K$ the fermi function becomes a step function and the Landauer formula simplifies to:\n",
    "\n",
    "$$\n",
    "I(V)= \\frac{q^2}{h}\\int_{\\mu - \\frac{qV}{2}}^{\\mu + \\frac{qV}{2}} T(E, V) dE\n",
    "$$\n",
    "\n",
    "which is calculated after convergence using the `quickCurrent()` and `quickCurrentE()` functions from `transport.py` (_NOTE: This calculation can take some time to run_):"
   ]
  },
  {
   "cell_type": "code",
   "execution_count": null,
   "id": "1f7c2ec4",
   "metadata": {},
   "outputs": [],
   "source": [
    "# Voltage from 0 to 0.5 to -0.5 to 0\n",
    "Vlist = list(np.arange(0.1, 0.5, 0.1))\n",
    "Vlist += list(np.arange(0.5, -0.5, -0.1))\n",
    "Vlist +=  list(np.arange(-0.5, 0.1, 0.1))\n",
    "Ilist = []\n",
    "IlistE =[]\n",
    "for V in Vlist:\n",
    "    print(f'SETTING VOLTAGE: {V} V')\n",
    "    negf.setVoltage(V, fermi=negf.fermi)\n",
    "    negf.SCF(1e-3, 0.02)\n",
    "    negf2.setVoltage(V, fermi=negf.fermi)\n",
    "    negf2.SCF(1e-3, 0.02)\n",
    "    I = quickCurrent(negf.F, negf.S, negf.sigma1, negf.sigma2, negf.fermi, V)\n",
    "    I2 = quickCurrentE(negf2.F, negf2.S, negf2.g, negf2.fermi, V)\n",
    "    Ilist.append(I)\n",
    "    IlistE.append(I2)\n",
    "    print(f'CALCULATED CURRENT Energy independent -  {I} A, Energy dependent - {I2} A')\n",
    "print('IV COMPLETE!')\n"
   ]
  },
  {
   "cell_type": "markdown",
   "id": "79d60f11",
   "metadata": {},
   "source": [
    "Now, as a final confirmation, we can plot these and make sure they match up:"
   ]
  },
  {
   "cell_type": "code",
   "execution_count": null,
   "id": "3ffd45c6",
   "metadata": {},
   "outputs": [],
   "source": [
    "plt.plot(Vlist, [I*1e6 for I in Ilist], '-o')\n",
    "plt.plot(Vlist, [I*1e6 for I in IlistE], '-o')\n",
    "plt.xlabel('Voltage (V)')\n",
    "plt.ylabel(r'Current ($\\mu$A)')\n",
    "plt.title('IV Characteristic')\n",
    "plt.legend(('Energy Independent Calculation', 'Energy Dependent Calculation'))"
   ]
  }
 ],
 "metadata": {
  "kernelspec": {
   "display_name": "Python 3 (ipykernel)",
   "language": "python",
   "name": "python3"
  },
  "language_info": {
   "codemirror_mode": {
    "name": "ipython",
    "version": 3
   },
   "file_extension": ".py",
   "mimetype": "text/x-python",
   "name": "python",
   "nbconvert_exporter": "python",
   "pygments_lexer": "ipython3",
   "version": "3.7.12"
  }
 },
 "nbformat": 4,
 "nbformat_minor": 5
}
